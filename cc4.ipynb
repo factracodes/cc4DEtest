{
 "cells": [
  {
   "attachments": {},
   "cell_type": "markdown",
   "metadata": {},
   "source": [
    "### Import required libraries"
   ]
  },
  {
   "cell_type": "code",
   "execution_count": 39,
   "metadata": {},
   "outputs": [],
   "source": [
    "import json\n",
    "import csv\n",
    "import pandas as pd\n",
    "\n",
    "from datetime import datetime"
   ]
  },
  {
   "attachments": {},
   "cell_type": "markdown",
   "metadata": {},
   "source": [
    "### 1) Extract Restaurant Data\n",
    "Extract required fields from json file and store into restaurants.csv"
   ]
  },
  {
   "cell_type": "code",
   "execution_count": 2,
   "metadata": {},
   "outputs": [],
   "source": [
    "with open('restaurant_data.json', 'r', encoding=\"utf8\") as json_file: # encoding is used to decode the raw data file\n",
    "    data = json.load(json_file)"
   ]
  },
  {
   "cell_type": "code",
   "execution_count": 3,
   "metadata": {},
   "outputs": [],
   "source": [
    "# write to the csv with similar encoding\n",
    "with open('restaurant_data.csv', 'w', newline='', encoding=\"utf8\") as csv_file:\n",
    "    # specify columns required for header\n",
    "    fieldnames = ['id','name', 'country', 'city', 'user_votes', 'user_agr_rating', 'cuisines']\n",
    "    writer = csv.DictWriter(csv_file, fieldnames=fieldnames)\n",
    "    writer.writeheader() # write header to csv file\n",
    "\n",
    "    # loop through each dictionary object to obtain data of all restaurants\n",
    "    for d in data:\n",
    "        restaurants = d['restaurants']\n",
    "\n",
    "        # loop through each restaurant to obtain required values\n",
    "        for rest in restaurants:\n",
    "            rest = rest['restaurant']\n",
    "            id = rest['id']\n",
    "            name = rest['name']\n",
    "            country = rest['location']['country_id']\n",
    "            city = rest['location']['city']\n",
    "            user_votes= rest['user_rating']['votes']\n",
    "            user_agr_rating = float(rest['user_rating']['aggregate_rating'])\n",
    "            cuisines = rest['cuisines']\n",
    "\n",
    "            # save all required values into a dictionary object\n",
    "            row = {'id': id, 'name': name, 'country': country, 'city': city, 'user_votes': user_votes, 'user_agr_rating' : user_agr_rating, 'cuisines': cuisines}\n",
    "            # write values of each restaurant into a row of the csv file\n",
    "            writer.writerow(row)\n"
   ]
  },
  {
   "attachments": {},
   "cell_type": "markdown",
   "metadata": {},
   "source": [
    "### 2) Extract past events"
   ]
  },
  {
   "cell_type": "code",
   "execution_count": 62,
   "metadata": {},
   "outputs": [],
   "source": [
    "# write to the csv with similar encoding\n",
    "with open('restaurant_events.csv', 'w', newline='', encoding=\"utf8\") as csv_file:\n",
    "    # specify columns required for header\n",
    "    fieldnames = ['event_id','rest_id', 'rest_name', 'photo_url', 'title', 'start_date', 'end_date']\n",
    "    \n",
    "    writer = csv.DictWriter(csv_file, fieldnames=fieldnames)\n",
    "    writer.writeheader() # write header to csv file\n",
    "\n",
    "    # loop through each dictionary object to obtain data of all restaurants\n",
    "    for d in data:\n",
    "        restaurants = d['restaurants']\n",
    "        \n",
    "        # loop through each restaurant to obtain events\n",
    "        for rest in restaurants:\n",
    "            rest = rest['restaurant']\n",
    "            \n",
    "            # if events are recorded by zomato for that restaurant\n",
    "            if 'zomato_events' in rest.keys():\n",
    "                events = rest['zomato_events']\n",
    "                \n",
    "                # loop through each event that happened in the restaurant\n",
    "                for event in events:\n",
    "                    event = event['event']\n",
    "                    start_date = datetime.strptime(event['start_date'], \"%Y-%m-%d\")\n",
    "                    \n",
    "                    # assume that \"past event in the month of April 2019\" starts in the month of April\n",
    "                    if start_date.year == 2019 and start_date.month == 4:\n",
    "                        row = dict.fromkeys(fieldnames, \"NA\") # populate rows as 'NA' first\n",
    "\n",
    "                        # obtain required values for each event\n",
    "                        row['event_id'] = event['event_id']\n",
    "                        row['rest_id']= rest['R']['res_id']\n",
    "                        row['rest_name'] = rest['name']\n",
    "                        row['title'] = event['title']\n",
    "                        row['start_date'] = event['start_date']\n",
    "                        row['end_date'] = event['end_date']\n",
    "\n",
    "                        # concatenate each url together\n",
    "                        url = ''\n",
    "                        for photo in event['photos']:\n",
    "                            photo = photo['photo']\n",
    "                            url += photo['url']\n",
    "                            url += \" \"\n",
    "                        \n",
    "                        # if photo url for the event exists, replace the original NA string\n",
    "                        if len(url) > 0:\n",
    "                            row['photo_url'] = url\n",
    "\n",
    "                        # write values of each restaurant into a row of the csv file\n",
    "                        writer.writerow(row)\n"
   ]
  },
  {
   "attachments": {},
   "cell_type": "markdown",
   "metadata": {},
   "source": [
    "### 3) Extract aggregate ratings"
   ]
  },
  {
   "cell_type": "code",
   "execution_count": 69,
   "metadata": {},
   "outputs": [
    {
     "name": "stdout",
     "output_type": "stream",
     "text": [
      "Excellent Rating: 4.5 - 4.9\n",
      "Very Good Rating: 4.0 - 4.4\n",
      "Good Rating: 3.5 - 3.9\n",
      "Average Rating: 2.5 - 3.4\n",
      "Poor Rating: 2.2 - 2.2\n"
     ]
    }
   ],
   "source": [
    "# initialize dictionary with each rating being a list\n",
    "ratings = {'Excellent': [], 'Very Good': [], 'Good': [], 'Average': [], 'Poor': []}\n",
    "\n",
    "# loop through each dictionary object to obtain data of all restaurants\n",
    "for d in data:\n",
    "    restaurants = d['restaurants']\n",
    "    \n",
    "    # loop through each restaurant to obtain events\n",
    "    for rest in restaurants:\n",
    "        # extract the rating information from each restaurant\n",
    "        rating_text = rest['restaurant']['user_rating']['rating_text']\n",
    "        agr_rating = rest['restaurant']['user_rating']['aggregate_rating']\n",
    "\n",
    "        # keep only the values for those ratings we are concerned about\n",
    "        if rating_text in ratings.keys():\n",
    "            ratings[rating_text].append(agr_rating) # add each rating to the list\n",
    "\n",
    "# calculate the lowest and highest value for each rating to find its threshold\n",
    "for k,v in ratings.items():\n",
    "    lowest_val = min(v)\n",
    "    highest_val = max(v)\n",
    "    print(f'{k} Rating: {lowest_val} - {highest_val}')"
   ]
  }
 ],
 "metadata": {
  "kernelspec": {
   "display_name": "venv",
   "language": "python",
   "name": "python3"
  },
  "language_info": {
   "codemirror_mode": {
    "name": "ipython",
    "version": 3
   },
   "file_extension": ".py",
   "mimetype": "text/x-python",
   "name": "python",
   "nbconvert_exporter": "python",
   "pygments_lexer": "ipython3",
   "version": "3.11.2"
  },
  "orig_nbformat": 4,
  "vscode": {
   "interpreter": {
    "hash": "4cb14a073d6bd5e6714f9dd073203290c10ea4a377b6b2776ad48e8d87f27ee3"
   }
  }
 },
 "nbformat": 4,
 "nbformat_minor": 2
}
